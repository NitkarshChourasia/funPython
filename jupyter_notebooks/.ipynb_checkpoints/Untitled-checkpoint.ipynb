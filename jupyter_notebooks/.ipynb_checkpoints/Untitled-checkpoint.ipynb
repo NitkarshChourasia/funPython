{
 "cells": [
  {
   "cell_type": "code",
   "execution_count": 101,
   "id": "74aec12d",
   "metadata": {},
   "outputs": [
    {
     "name": "stdout",
     "output_type": "stream",
     "text": [
      "1\n",
      "2\n",
      "3\n",
      "4\n",
      "5\n"
     ]
    }
   ],
   "source": [
    "for i in range(1, 5+1):\n",
    "    print(i)"
   ]
  },
  {
   "cell_type": "markdown",
   "id": "124b8df4",
   "metadata": {},
   "source": [
    "# Hello\n",
    "## Nitkarsh, here.\n",
    "### How, are you?!\n",
    "#### Are you fine?\n",
    "##### No, I am good, what about you?!\n",
    "###### I am great. Well, what about you?!\n",
    "\n",
    "\n",
    "```python\n",
    "\n",
    "def hello_world():\n",
    "    return \"Hello, World!\"\n",
    "\n",
    "hello_world_print = hello_world\n",
    "\n",
    "print(hello_world_print)\n",
    "print(hello_world)\n",
    "```"
   ]
  },
  {
   "cell_type": "code",
   "execution_count": 102,
   "id": "20da26ef",
   "metadata": {},
   "outputs": [
    {
     "name": "stdout",
     "output_type": "stream",
     "text": [
      "Hello, World!\n",
      "Function running and printing.\n",
      "Hello, World!\n",
      "Now printing functions without any running.\n",
      "<function hello_world at 0x00000255D5D0F6A0>\n",
      "<function hello_world at 0x00000255D5D0F6A0>\n"
     ]
    }
   ],
   "source": [
    "def hello_world():\n",
    "    return \"Hello, World!\"\n",
    "\n",
    "hello_world_print = hello_world\n",
    "\n",
    "print(hello_world_print())\n",
    "\n",
    "print(\"Function running and printing.\")\n",
    "\n",
    "print(hello_world())\n",
    "\n",
    "print(\"Now printing functions without any running.\")\n",
    "\n",
    "print(hello_world_print)\n",
    "\n",
    "print(hello_world)"
   ]
  },
  {
   "cell_type": "markdown",
   "id": "9364840b",
   "metadata": {},
   "source": [
    "See the memory also points towards the same memory location.\n",
    "Can you see in the above program, so?!"
   ]
  },
  {
   "cell_type": "code",
   "execution_count": 103,
   "id": "07833a9c",
   "metadata": {},
   "outputs": [
    {
     "name": "stdout",
     "output_type": "stream",
     "text": [
      "Hello, World!\n",
      "Function running and printing.\n",
      "Hello, World!\n",
      "Now printing functions without any running.\n",
      "<function hello_world at 0x00000255D5D0C7C0>\n",
      "<function hello_world at 0x00000255D5D0C7C0>\n"
     ]
    }
   ],
   "source": [
    "def hello_world():\n",
    "    return \"Hello, World!\"\n",
    "\n",
    "hello_world_print = hello_world\n",
    "\n",
    "print(hello_world_print())\n",
    "\n",
    "print(\"Function running and printing.\")\n",
    "\n",
    "print(hello_world())\n",
    "\n",
    "print(\"Now printing functions without any running.\")\n",
    "\n",
    "print(hello_world_print)\n",
    "\n",
    "print(hello_world)"
   ]
  },
  {
   "cell_type": "code",
   "execution_count": 104,
   "id": "47d9ec27",
   "metadata": {},
   "outputs": [
    {
     "name": "stdout",
     "output_type": "stream",
     "text": [
      "hello\n"
     ]
    }
   ],
   "source": [
    "print('hello')"
   ]
  },
  {
   "cell_type": "code",
   "execution_count": 105,
   "id": "f2c6ee9e",
   "metadata": {},
   "outputs": [
    {
     "name": "stdout",
     "output_type": "stream",
     "text": [
      "hello\n"
     ]
    }
   ],
   "source": [
    "print('hello')"
   ]
  },
  {
   "cell_type": "code",
   "execution_count": 106,
   "id": "5c91fc58",
   "metadata": {},
   "outputs": [
    {
     "name": "stdout",
     "output_type": "stream",
     "text": [
      "hello\n"
     ]
    }
   ],
   "source": [
    "print('hello')"
   ]
  },
  {
   "cell_type": "code",
   "execution_count": 107,
   "id": "198af2ed",
   "metadata": {},
   "outputs": [
    {
     "name": "stdout",
     "output_type": "stream",
     "text": [
      "hello\n"
     ]
    }
   ],
   "source": [
    "print('hello')"
   ]
  },
  {
   "cell_type": "code",
   "execution_count": 108,
   "id": "48e1f5f3",
   "metadata": {},
   "outputs": [
    {
     "name": "stdout",
     "output_type": "stream",
     "text": [
      "hello\n"
     ]
    }
   ],
   "source": [
    "print('hello')"
   ]
  },
  {
   "cell_type": "code",
   "execution_count": 109,
   "id": "42869729",
   "metadata": {},
   "outputs": [
    {
     "name": "stdout",
     "output_type": "stream",
     "text": [
      "hello\n"
     ]
    }
   ],
   "source": [
    "print('hello')"
   ]
  },
  {
   "cell_type": "code",
   "execution_count": 110,
   "id": "4828840a",
   "metadata": {},
   "outputs": [
    {
     "name": "stdout",
     "output_type": "stream",
     "text": [
      "hello\n"
     ]
    }
   ],
   "source": [
    "print('hello')"
   ]
  },
  {
   "cell_type": "code",
   "execution_count": 111,
   "id": "f38699dd",
   "metadata": {},
   "outputs": [
    {
     "name": "stdout",
     "output_type": "stream",
     "text": [
      "hello\n"
     ]
    }
   ],
   "source": [
    "print('hello')"
   ]
  },
  {
   "cell_type": "code",
   "execution_count": 112,
   "id": "04c47f23",
   "metadata": {},
   "outputs": [
    {
     "name": "stdout",
     "output_type": "stream",
     "text": [
      "hello\n"
     ]
    }
   ],
   "source": [
    "print('hello')"
   ]
  },
  {
   "cell_type": "code",
   "execution_count": 113,
   "id": "bdd3497e",
   "metadata": {},
   "outputs": [
    {
     "name": "stdout",
     "output_type": "stream",
     "text": [
      "hello\n"
     ]
    }
   ],
   "source": [
    "print('hello')"
   ]
  },
  {
   "cell_type": "code",
   "execution_count": 114,
   "id": "24d5a195",
   "metadata": {},
   "outputs": [
    {
     "name": "stdout",
     "output_type": "stream",
     "text": [
      "hello\n"
     ]
    }
   ],
   "source": [
    "print('hello')"
   ]
  },
  {
   "cell_type": "code",
   "execution_count": 115,
   "id": "99b1704b",
   "metadata": {},
   "outputs": [
    {
     "name": "stdout",
     "output_type": "stream",
     "text": [
      "hello\n"
     ]
    }
   ],
   "source": [
    "print('hello')"
   ]
  },
  {
   "cell_type": "code",
   "execution_count": 116,
   "id": "85902e94",
   "metadata": {},
   "outputs": [
    {
     "name": "stdout",
     "output_type": "stream",
     "text": [
      "1\n",
      "2\n",
      "3\n",
      "4\n"
     ]
    }
   ],
   "source": [
    "for i in range(1, 5):\n",
    "    print(i)"
   ]
  },
  {
   "cell_type": "code",
   "execution_count": 117,
   "id": "225e835d",
   "metadata": {},
   "outputs": [
    {
     "name": "stdout",
     "output_type": "stream",
     "text": [
      "12345"
     ]
    }
   ],
   "source": [
    "for i in range(1, 5+1):\n",
    "    print(i, end=\"\")"
   ]
  },
  {
   "cell_type": "code",
   "execution_count": 118,
   "id": "90aa8a67",
   "metadata": {},
   "outputs": [
    {
     "name": "stdout",
     "output_type": "stream",
     "text": [
      "hello\n"
     ]
    }
   ],
   "source": [
    "print('hello')"
   ]
  },
  {
   "cell_type": "code",
   "execution_count": 119,
   "id": "22a1ad0f",
   "metadata": {},
   "outputs": [
    {
     "name": "stdout",
     "output_type": "stream",
     "text": [
      "hello\n"
     ]
    }
   ],
   "source": [
    "print('hello')"
   ]
  },
  {
   "cell_type": "code",
   "execution_count": 120,
   "id": "35bdd5d9",
   "metadata": {},
   "outputs": [
    {
     "name": "stdout",
     "output_type": "stream",
     "text": [
      "hello\n"
     ]
    }
   ],
   "source": [
    "print('hello')"
   ]
  },
  {
   "cell_type": "code",
   "execution_count": 121,
   "id": "0c63c920",
   "metadata": {},
   "outputs": [
    {
     "name": "stdout",
     "output_type": "stream",
     "text": [
      "hello\n"
     ]
    }
   ],
   "source": [
    "print('hello')"
   ]
  },
  {
   "cell_type": "markdown",
   "id": "947e70eb",
   "metadata": {},
   "source": [
    "###### print('hello')\n",
    "\n",
    "# I know better.\n"
   ]
  },
  {
   "cell_type": "code",
   "execution_count": 122,
   "id": "99572e7a",
   "metadata": {},
   "outputs": [
    {
     "name": "stdout",
     "output_type": "stream",
     "text": [
      "hello\n"
     ]
    }
   ],
   "source": [
    "print('hello')"
   ]
  }
 ],
 "metadata": {
  "kernelspec": {
   "display_name": "Python 3 (ipykernel)",
   "language": "python",
   "name": "python3"
  },
  "language_info": {
   "codemirror_mode": {
    "name": "ipython",
    "version": 3
   },
   "file_extension": ".py",
   "mimetype": "text/x-python",
   "name": "python",
   "nbconvert_exporter": "python",
   "pygments_lexer": "ipython3",
   "version": "3.11.4"
  }
 },
 "nbformat": 4,
 "nbformat_minor": 5
}
