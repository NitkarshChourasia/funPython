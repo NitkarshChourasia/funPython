{
 "cells": [
  {
   "cell_type": "code",
   "execution_count": 2,
   "id": "f7ee1ea4",
   "metadata": {},
   "outputs": [
    {
     "name": "stdout",
     "output_type": "stream",
     "text": [
      "Hello World!\n"
     ]
    }
   ],
   "source": [
    "print(\"Hello World!\")"
   ]
  },
  {
   "cell_type": "code",
   "execution_count": 3,
   "id": "0af91ee9",
   "metadata": {},
   "outputs": [
    {
     "name": "stdout",
     "output_type": "stream",
     "text": [
      "1 2\n",
      "2 4\n",
      "3 6\n",
      "4 8\n",
      "5 10\n",
      "6 12\n",
      "7 14\n",
      "8 16\n",
      "9 18\n",
      "10 20\n",
      "11 22\n",
      "12 24\n",
      "13 26\n",
      "14 28\n",
      "15 30\n",
      "16 32\n",
      "17 34\n",
      "18 36\n",
      "19 38\n",
      "20 40\n",
      "21 42\n",
      "22 44\n",
      "23 46\n",
      "24 48\n",
      "25 50\n",
      "26 52\n",
      "27 54\n",
      "28 56\n",
      "29 58\n",
      "30 60\n",
      "31 62\n",
      "32 64\n",
      "33 66\n",
      "34 68\n",
      "35 70\n",
      "36 72\n",
      "37 74\n",
      "38 76\n",
      "39 78\n",
      "40 80\n",
      "41 82\n",
      "42 84\n",
      "43 86\n",
      "44 88\n",
      "45 90\n",
      "46 92\n",
      "47 94\n",
      "48 96\n",
      "49 98\n",
      "50 100\n",
      "51 102\n",
      "52 104\n",
      "53 106\n",
      "54 108\n",
      "55 110\n",
      "56 112\n",
      "57 114\n",
      "58 116\n",
      "59 118\n",
      "60 120\n",
      "61 122\n",
      "62 124\n",
      "63 126\n",
      "64 128\n",
      "65 130\n",
      "66 132\n",
      "67 134\n",
      "68 136\n",
      "69 138\n",
      "70 140\n",
      "71 142\n",
      "72 144\n",
      "73 146\n",
      "74 148\n",
      "75 150\n",
      "76 152\n",
      "77 154\n",
      "78 156\n",
      "79 158\n",
      "80 160\n",
      "81 162\n",
      "82 164\n",
      "83 166\n",
      "84 168\n",
      "85 170\n",
      "86 172\n",
      "87 174\n",
      "88 176\n",
      "89 178\n",
      "90 180\n",
      "91 182\n",
      "92 184\n",
      "93 186\n",
      "94 188\n",
      "95 190\n",
      "96 192\n",
      "97 194\n",
      "98 196\n",
      "99 198\n"
     ]
    }
   ],
   "source": [
    "for i in range(1, 100):\n",
    "    print(i, i + i)"
   ]
  },
  {
   "cell_type": "code",
   "execution_count": 4,
   "id": "dce4ac5d",
   "metadata": {},
   "outputs": [
    {
     "ename": "ModuleNotFoundError",
     "evalue": "No module named 'urllib.requests'",
     "output_type": "error",
     "traceback": [
      "\u001b[1;31m---------------------------------------------------------------------------\u001b[0m",
      "\u001b[1;31mModuleNotFoundError\u001b[0m                       Traceback (most recent call last)",
      "Cell \u001b[1;32mIn[4], line 1\u001b[0m\n\u001b[1;32m----> 1\u001b[0m \u001b[38;5;28;01mimport\u001b[39;00m \u001b[38;5;21;01murllib\u001b[39;00m\u001b[38;5;21;01m.\u001b[39;00m\u001b[38;5;21;01mrequests\u001b[39;00m\n\u001b[0;32m      2\u001b[0m url \u001b[38;5;241m=\u001b[39m \u001b[38;5;124m\"\u001b[39m\u001b[38;5;124mwww.instagram.com\u001b[39m\u001b[38;5;124m\"\u001b[39m\n\u001b[0;32m      3\u001b[0m html \u001b[38;5;241m=\u001b[39m url\u001b[38;5;241m.\u001b[39mopen()\n",
      "\u001b[1;31mModuleNotFoundError\u001b[0m: No module named 'urllib.requests'"
     ]
    }
   ],
   "source": [
    "import urllib.requests\n",
    "url = \"www.instagram.com\"\n",
    "html = url.open()"
   ]
  },
  {
   "cell_type": "code",
   "execution_count": null,
   "id": "372fcb60",
   "metadata": {},
   "outputs": [],
   "source": []
  },
  {
   "cell_type": "code",
   "execution_count": 5,
   "id": "11777bb8",
   "metadata": {},
   "outputs": [
    {
     "name": "stdout",
     "output_type": "stream",
     "text": [
      "Hello, What can be made out of this?\n"
     ]
    }
   ],
   "source": [
    "print(\"Hello, What can be made out of this?\")"
   ]
  }
 ],
 "metadata": {
  "kernelspec": {
   "display_name": "Python 3 (ipykernel)",
   "language": "python",
   "name": "python3"
  },
  "language_info": {
   "codemirror_mode": {
    "name": "ipython",
    "version": 3
   },
   "file_extension": ".py",
   "mimetype": "text/x-python",
   "name": "python",
   "nbconvert_exporter": "python",
   "pygments_lexer": "ipython3",
   "version": "3.11.4"
  }
 },
 "nbformat": 4,
 "nbformat_minor": 5
}
