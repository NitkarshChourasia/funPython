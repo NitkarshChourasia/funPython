{
 "cells": [
  {
   "cell_type": "markdown",
   "id": "5057a6f5-1c22-4116-83b8-1b15ee4bbdbc",
   "metadata": {},
   "source": [
    "Importing, Creating and printing the array."
   ]
  },
  {
   "cell_type": "code",
   "execution_count": 1,
   "id": "b8a41740-430c-44e7-95ea-493cb590f8fd",
   "metadata": {},
   "outputs": [
    {
     "name": "stdout",
     "output_type": "stream",
     "text": [
      "[1 2 3 4 5]\n"
     ]
    }
   ],
   "source": [
    "import numpy as np\n",
    "\n",
    "arr = np.array([1, 2, 3, 4, 5])\n",
    "\n",
    "print(arr)"
   ]
  },
  {
   "cell_type": "markdown",
   "id": "870e1df8-6cd1-49eb-9eb0-b7689d2ee5d6",
   "metadata": {},
   "source": [
    "Printing the version of numpy."
   ]
  },
  {
   "cell_type": "code",
   "execution_count": 2,
   "id": "0ef18cd1-0f71-4c29-9408-1549b87a35bc",
   "metadata": {},
   "outputs": [
    {
     "name": "stdout",
     "output_type": "stream",
     "text": [
      "1.25.2\n"
     ]
    }
   ],
   "source": [
    "print(np.__version__)"
   ]
  },
  {
   "cell_type": "markdown",
   "id": "edec1126-d043-4857-8611-5d0a6c33a40e",
   "metadata": {},
   "source": [
    "Printing the type of array created using numpy."
   ]
  },
  {
   "cell_type": "code",
   "execution_count": 3,
   "id": "ccdc4eef-ca9e-4a4c-962c-9c4fc6200d3f",
   "metadata": {},
   "outputs": [
    {
     "name": "stdout",
     "output_type": "stream",
     "text": [
      "[1 2 3 4 5]\n",
      "<class 'numpy.ndarray'>\n"
     ]
    }
   ],
   "source": [
    "import numpy as np\n",
    "\n",
    "arr = np.array([1, 2, 3, 4, 5])\n",
    "\n",
    "print(arr)\n",
    "\n",
    "print(type(arr))"
   ]
  },
  {
   "cell_type": "markdown",
   "id": "f4433c04-b4ac-407e-8636-99fbb3d24c8c",
   "metadata": {},
   "source": [
    "Creating Dimensions."
   ]
  },
  {
   "cell_type": "code",
   "execution_count": 4,
   "id": "6f0b348e-0eae-4b74-b9a7-28c4ff57992c",
   "metadata": {},
   "outputs": [
    {
     "name": "stdout",
     "output_type": "stream",
     "text": [
      "[[[[[1 2 3 4 5]]]]]\n",
      "<class 'numpy.ndarray'>\n",
      "5\n"
     ]
    }
   ],
   "source": [
    "import numpy as np\n",
    "\n",
    "arr = np.array([1,2,3,4,5], ndmin = 5)\n",
    "\n",
    "print(arr)\n",
    "print(type(arr))\n",
    "print(arr.ndim)"
   ]
  },
  {
   "cell_type": "markdown",
   "id": "bb201a32-6e30-4016-be62-ed0ada6a1d2a",
   "metadata": {},
   "source": [
    "### Objective: To create a one, two, three dimension matrix using elements."
   ]
  },
  {
   "cell_type": "code",
   "execution_count": null,
   "id": "261e9cc5-1957-4b44-aeac-4a70f8577c33",
   "metadata": {},
   "outputs": [],
   "source": []
  },
  {
   "cell_type": "code",
   "execution_count": 5,
   "id": "b4813ba9-950a-4908-8aa5-bbe19127441e",
   "metadata": {},
   "outputs": [
    {
     "name": "stdout",
     "output_type": "stream",
     "text": [
      "0\n",
      "1\n",
      "2\n"
     ]
    }
   ],
   "source": [
    "import numpy as np\n",
    "\n",
    "a = np.array(42)\n",
    "b = np.array([1, 2, 3, 4, 5])\n",
    "c = np.array([[1,2,3,4,5], [1,2,3,4,5]])\n",
    "# d = np.array([[1.2.3.4.5]. [1,2,3,4,5]],[[1,2,3,4,5],[1,2,3,4,5]]) Learn to make three dimensional using 2 two dimensional arrays.\n",
    "\n",
    "print(a.ndim)\n",
    "print(b.ndim)\n",
    "print(c.ndim)\n",
    "# print(d.ndim)"
   ]
  },
  {
   "cell_type": "markdown",
   "id": "b34aa0b4-f428-4e5b-ad76-52d9ef300f75",
   "metadata": {},
   "source": [
    "Access Array Element."
   ]
  },
  {
   "cell_type": "code",
   "execution_count": 6,
   "id": "1701679c-7a66-42b1-a29f-3e5ff5e78deb",
   "metadata": {},
   "outputs": [
    {
     "name": "stdout",
     "output_type": "stream",
     "text": [
      "[1, 2, 3, 4, 5]\n",
      "1\n"
     ]
    }
   ],
   "source": [
    "import numpy as np\n",
    "\n",
    "arr = [1,2,3,4,5]\n",
    "print(arr)\n",
    "print(arr[0])"
   ]
  },
  {
   "cell_type": "markdown",
   "id": "f9991a7a-3383-4335-a2d8-32f878475515",
   "metadata": {},
   "source": [
    "Accessing the second element."
   ]
  },
  {
   "cell_type": "code",
   "execution_count": 7,
   "id": "1c037e70-0f50-48db-b572-d4809ed410de",
   "metadata": {},
   "outputs": [
    {
     "name": "stdout",
     "output_type": "stream",
     "text": [
      "[1, 2, 3, 4, 5]\n",
      "2\n",
      "3\n",
      "Now adding the first and second element\n",
      "3\n"
     ]
    }
   ],
   "source": [
    "import numpy as np\n",
    "\n",
    "arr = [1, 2, 3, 4, 5]\n",
    "\n",
    "print(arr)\n",
    "print(arr[1])\n",
    "print(arr[2])\n",
    "\n",
    "print(\"Now adding the first and second element\")\n",
    "\n",
    "print(arr[0] + arr[1])"
   ]
  },
  {
   "cell_type": "code",
   "execution_count": 8,
   "id": "709e2a15-7c7a-4e65-a5b9-a9193dbb8ace",
   "metadata": {},
   "outputs": [
    {
     "name": "stdout",
     "output_type": "stream",
     "text": [
      "5th element on 1st row:  5\n",
      "3rd element on 2nd row:  8\n"
     ]
    }
   ],
   "source": [
    "import numpy as np\n",
    "\n",
    "arr = np.array([[1, 2, 3, 4, 5], [6, 7, 8, 9, 10]])\n",
    "print(\"5th element on 1st row: \", arr[0, 4])\n",
    "\n",
    "print(\"3rd element on 2nd row: \", arr[1][2])"
   ]
  },
  {
   "cell_type": "markdown",
   "id": "40f09a27-2d29-49c9-9cde-703cb16fbfda",
   "metadata": {},
   "source": [
    "### Analyse this:"
   ]
  },
  {
   "cell_type": "code",
   "execution_count": 9,
   "id": "49984a62-c0c5-45a8-b274-9753be1c2db7",
   "metadata": {},
   "outputs": [
    {
     "name": "stdout",
     "output_type": "stream",
     "text": [
      "6\n"
     ]
    }
   ],
   "source": [
    "import numpy as np\n",
    "\n",
    "arr = np.array([[[1, 2, 3], [4, 5, 6]], [[7, 8, 9], [10, 11, 12]]])\n",
    "\n",
    "print(arr[0, 1, 2]) "
   ]
  },
  {
   "cell_type": "markdown",
   "id": "6de51ac1-0692-490a-9b35-cb4f5284b8a7",
   "metadata": {},
   "source": [
    "### Changing numpy datatype.\n",
    "From float to int, \n",
    "From int to float"
   ]
  },
  {
   "cell_type": "code",
   "execution_count": 10,
   "id": "4ccb16e4-8874-4e47-8988-6aa40f18c61e",
   "metadata": {},
   "outputs": [
    {
     "name": "stdout",
     "output_type": "stream",
     "text": [
      "Printing arr: [1 2 3 4 5]\n",
      "int32\n",
      "Printing arr type: int32\n",
      "[1. 2. 3. 4. 5.]\n",
      "float32\n"
     ]
    }
   ],
   "source": [
    "import numpy as np\n",
    "\n",
    "arr = np.array([1, 2, 3, 4, 5])\n",
    "print(f\"Printing arr: {arr}\")\n",
    "print(arr.dtype)\n",
    "print(f\"Printing arr type: {arr.dtype}\")\n",
    "\n",
    "new_arr = arr.astype(\"f\") # To change the data type of an existing array is to make a copy of the array with the astype() method.\n",
    "\n",
    "print(new_arr)\n",
    "print(new_arr.dtype)"
   ]
  },
  {
   "cell_type": "code",
   "execution_count": null,
   "id": "82a1c123-4705-4251-b407-580163fa8895",
   "metadata": {},
   "outputs": [],
   "source": []
  },
  {
   "cell_type": "code",
   "execution_count": null,
   "id": "fb8cff73-2aed-4c5d-a25d-f1a9821d8b57",
   "metadata": {},
   "outputs": [],
   "source": []
  },
  {
   "cell_type": "code",
   "execution_count": null,
   "id": "ec0962c0-729b-4b71-a8ca-30c1d5d8f83a",
   "metadata": {},
   "outputs": [],
   "source": []
  },
  {
   "cell_type": "code",
   "execution_count": null,
   "id": "f469aac3-336d-4c93-bb1c-a00f41b173fc",
   "metadata": {},
   "outputs": [],
   "source": []
  }
 ],
 "metadata": {
  "kernelspec": {
   "display_name": "Python 3 (ipykernel)",
   "language": "python",
   "name": "python3"
  },
  "language_info": {
   "codemirror_mode": {
    "name": "ipython",
    "version": 3
   },
   "file_extension": ".py",
   "mimetype": "text/x-python",
   "name": "python",
   "nbconvert_exporter": "python",
   "pygments_lexer": "ipython3",
   "version": "3.11.4"
  }
 },
 "nbformat": 4,
 "nbformat_minor": 5
}
